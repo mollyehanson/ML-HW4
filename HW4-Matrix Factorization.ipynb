{
 "cells": [
  {
   "cell_type": "code",
   "execution_count": 1,
   "metadata": {
    "collapsed": false
   },
   "outputs": [
    {
     "name": "stderr",
     "output_type": "stream",
     "text": [
      "/Users/mollyhanson/anaconda/lib/python2.7/site-packages/matplotlib/font_manager.py:273: UserWarning: Matplotlib is building the font cache using fc-list. This may take a moment.\n",
      "  warnings.warn('Matplotlib is building the font cache using fc-list. This may take a moment.')\n"
     ]
    }
   ],
   "source": [
    "import pandas as pd\n",
    "import numpy as np\n",
    "import matplotlib.pyplot as plt\n",
    "from numpy.linalg import inv\n",
    "from numpy import linalg\n",
    "%matplotlib inline\n",
    "\n",
    "# Read data files\n",
    "ratings=pd.read_csv('ratings.csv', header=0)\n",
    "ratings_test=pd.read_csv('ratings_test.csv', header=0)"
   ]
  },
  {
   "cell_type": "code",
   "execution_count": 2,
   "metadata": {
    "collapsed": false
   },
   "outputs": [],
   "source": [
    "ratings.columns=[\"UID\",\"MovieID\",\"Rating\"]\n",
    "ratings_test.columns=[\"UID\",\"MovieID\",\"Rating\"]\n",
    "ratings_test_pred = ratings_test[\"Rating\"]\n",
    "\n",
    "nomov = set(ratings_test['MovieID'])-set(ratings['MovieID'])"
   ]
  },
  {
   "cell_type": "code",
   "execution_count": 3,
   "metadata": {
    "collapsed": false
   },
   "outputs": [
    {
     "name": "stderr",
     "output_type": "stream",
     "text": [
      "/Users/mollyhanson/anaconda/lib/python2.7/site-packages/ipykernel/__main__.py:7: FutureWarning: sort(....) is deprecated, use sort_index(.....)\n"
     ]
    }
   ],
   "source": [
    "ratings = ratings.pivot(index='UID', columns='MovieID', values='Rating')\n",
    "ratings.index.name=None\n",
    "\n",
    "for i in nomov:\n",
    "    ratings[i]=np.nan\n",
    "    \n",
    "ratings = ratings.sort(axis=1)"
   ]
  },
  {
   "cell_type": "code",
   "execution_count": 4,
   "metadata": {
    "collapsed": false
   },
   "outputs": [],
   "source": [
    "ratings = ratings.as_matrix()\n",
    "ratings_test = ratings_test.as_matrix()"
   ]
  },
  {
   "cell_type": "code",
   "execution_count": 5,
   "metadata": {
    "collapsed": false
   },
   "outputs": [],
   "source": [
    "var = 0.25\n",
    "d = 10\n",
    "lam = 1\n",
    "id_mat = np.identity(d)"
   ]
  },
  {
   "cell_type": "code",
   "execution_count": 6,
   "metadata": {
    "collapsed": false
   },
   "outputs": [
    {
     "name": "stdout",
     "output_type": "stream",
     "text": [
      "0\n",
      "1\n",
      "2\n",
      "3\n",
      "4\n",
      "5\n",
      "6\n",
      "7\n",
      "8\n",
      "9\n",
      "10\n",
      "11\n",
      "12\n",
      "13\n",
      "14\n",
      "15\n",
      "16\n",
      "17\n",
      "18\n",
      "19\n",
      "20\n",
      "21\n",
      "22\n",
      "23\n",
      "24\n",
      "25\n",
      "26\n",
      "27\n",
      "28\n",
      "29\n",
      "30\n",
      "31\n",
      "32\n",
      "33\n",
      "34\n",
      "35\n",
      "36\n",
      "37\n",
      "38\n",
      "39\n",
      "40\n",
      "41\n",
      "42\n",
      "43\n",
      "44\n",
      "45\n",
      "46\n",
      "47\n",
      "48\n",
      "49\n"
     ]
    },
    {
     "name": "stderr",
     "output_type": "stream",
     "text": [
      "/Users/mollyhanson/anaconda/lib/python2.7/site-packages/ipykernel/__main__.py:54: VisibleDeprecationWarning: using a non-integer number instead of an integer will result in an error in the future\n",
      "/Users/mollyhanson/anaconda/lib/python2.7/site-packages/ipykernel/__main__.py:55: VisibleDeprecationWarning: using a non-integer number instead of an integer will result in an error in the future\n"
     ]
    }
   ],
   "source": [
    "#RUN 1\n",
    "norm_u1 = np.random.multivariate_normal([0]*d, id_mat*lam, ratings.shape[0])\n",
    "norm_v1 = np.random.multivariate_normal([0]*d, id_mat*lam, ratings.shape[1])\n",
    "\n",
    "loss_list1 = []\n",
    "\n",
    "for t in range(50):\n",
    "    print t\n",
    "    for i in range(943):\n",
    "        j_total = 0\n",
    "        vj_total = 0\n",
    "        isValidUpdate=False\n",
    "        for j in range(1682):\n",
    "            if not np.isnan(ratings[i][j]):\n",
    "                isValidUpdate=True\n",
    "                j_total += np.matmul(norm_v1[j][np.newaxis].T,norm_v1[j][np.newaxis])\n",
    "                vj_total += (ratings[i][j]*norm_v1[j])\n",
    "        if isValidUpdate:\n",
    "            j_total += (var*lam*id_mat)\n",
    "            norm_u1[i] = np.dot(inv(j_total),vj_total)\n",
    "        \n",
    "    for i in range(1682):\n",
    "        j_total = 0\n",
    "        vj_total = 0\n",
    "        isValidUpdate=False\n",
    "        for j in range(943):\n",
    "            if not np.isnan(ratings[j][i]):\n",
    "                isValidUpdate=True\n",
    "                j_total += np.matmul(norm_u1[j][np.newaxis].T,norm_u1[j][np.newaxis])\n",
    "                vj_total += (ratings[j][i]*norm_u1[j])\n",
    "        if isValidUpdate:\n",
    "            j_total += (var*lam*id_mat)\n",
    "            norm_v1[i] = np.dot(inv(j_total),vj_total)\n",
    "    \n",
    "    s=0\n",
    "    usr=0\n",
    "    mov=0\n",
    "    for i in range(943):\n",
    "        for j in range(1682):\n",
    "            if not np.isnan(ratings[i][j]):\n",
    "                s = s + (1/(2*var))*((ratings[i][j])-np.dot(norm_u1[i],norm_v1[j]))**2\n",
    "    for i in range(943):\n",
    "        usr = usr + (lam/2)*(linalg.norm(norm_u1[i]))**2\n",
    "    for j in range(1682):\n",
    "        mov = mov + (lam/2)*(linalg.norm(norm_v1[j]))**2\n",
    "\n",
    "    loss = -s-usr-mov\n",
    "    loss_list1.append(loss)\n",
    "\n",
    "pred_list1 = []\n",
    "for x in range(4999):\n",
    "    userid = ratings_test[x][0]\n",
    "    movid = ratings_test[x][1]\n",
    "    u_val = norm_u1[userid-1][np.newaxis]\n",
    "    v_val = norm_v1[movid-1][np.newaxis]\n",
    "    pre = np.dot(u_val,v_val.T)\n",
    "    pred_list1.append(pre[0][0])\n",
    "\n",
    "RMSE1 = np.sqrt(np.mean((pred_list1-ratings_test_pred)**2))"
   ]
  },
  {
   "cell_type": "code",
   "execution_count": 9,
   "metadata": {
    "collapsed": false
   },
   "outputs": [
    {
     "data": {
      "text/plain": [
       "<matplotlib.legend.Legend at 0x1165c1690>"
      ]
     },
     "execution_count": 9,
     "metadata": {},
     "output_type": "execute_result"
    },
    {
     "data": {
      "image/png": "[encoded data removed]",
      "text/plain": [
       "<matplotlib.figure.Figure at 0x114fbcd50>"
      ]
     },
     "metadata": {},
     "output_type": "display_data"
    }
   ],
   "source": [
    "plt.plot(loss_list1,label='run 1')\n",
    "plt.xlabel('Iteration')\n",
    "plt.ylabel('Log Joint Likelihood')\n",
    "plt.title('Log joint likelihood for iterations 2 to 100')\n",
    "plt.xlim([1,49])\n",
    "plt.legend(loc='center left', bbox_to_anchor=(1, 0.5))"
   ]
  },
  {
   "cell_type": "code",
   "execution_count": 12,
   "metadata": {
    "collapsed": false
   },
   "outputs": [
    {
     "name": "stdout",
     "output_type": "stream",
     "text": [
      " run 1:: final loss= -86814.3164589 , RMSE= 1.10671356208\n"
     ]
    }
   ],
   "source": [
    "print \"run 1:: final loss=\", loss_list1[49], \", RMSE=\", RMSE1"
   ]
  },
  {
   "cell_type": "code",
   "execution_count": 13,
   "metadata": {
    "collapsed": true
   },
   "outputs": [],
   "source": [
    "## PART B"
   ]
  },
  {
   "cell_type": "code",
   "execution_count": 14,
   "metadata": {
    "collapsed": false
   },
   "outputs": [],
   "source": [
    "movieid=pd.read_csv('movies.txt', sep=\"\\n\", header = None)"
   ]
  },
  {
   "cell_type": "code",
   "execution_count": 15,
   "metadata": {
    "collapsed": true
   },
   "outputs": [],
   "source": [
    "from scipy.spatial import distance"
   ]
  },
  {
   "cell_type": "code",
   "execution_count": 17,
   "metadata": {
    "collapsed": false
   },
   "outputs": [
    {
     "name": "stdout",
     "output_type": "stream",
     "text": [
      "The 10 closest movies to: Star Wars (1977) are...\n",
      "\n",
      "Empire Strikes Back, The (1980) with Euclidean distance = 0.310141196857\n",
      "Raiders of the Lost Ark (1981) with Euclidean distance = 0.633934580747\n",
      "Return of the Jedi (1983) with Euclidean distance = 0.685003808635\n",
      "Usual Suspects, The (1995) with Euclidean distance = 0.980990752169\n",
      "Indiana Jones and the Last Crusade (1989) with Euclidean distance = 0.987065778881\n",
      "Toy Story (1995) with Euclidean distance = 1.01380179106\n",
      "Princess Bride, The (1987) with Euclidean distance = 1.04413653614\n",
      "Searching for Bobby Fischer (1993) with Euclidean distance = 1.05606929896\n",
      "Terminator, The (1984) with Euclidean distance = 1.079516329\n",
      "Patton (1970) with Euclidean distance = 1.09265999516\n"
     ]
    }
   ],
   "source": [
    "#Star Wars\n",
    "\n",
    "print \"The 10 closest movies to:\", movieid[0][49], \"are...\\n\"\n",
    "\n",
    "SW_dist_list = []\n",
    "for j in range(1682):\n",
    "    dist = distance.euclidean(norm_v1[49], norm_v1[j])\n",
    "    SW_dist_list.append((dist,j))\n",
    "    \n",
    "sortSW = sorted(SW_dist_list)[1:11]\n",
    "\n",
    "for i,j in sortSW:\n",
    "    mov = movieid[0][j]\n",
    "    dist = i\n",
    "    print mov, \"with Euclidean distance =\", dist"
   ]
  },
  {
   "cell_type": "code",
   "execution_count": 18,
   "metadata": {
    "collapsed": false
   },
   "outputs": [
    {
     "name": "stdout",
     "output_type": "stream",
     "text": [
      "The 10 closest movies to: My Fair Lady (1964) are...\n",
      "\n",
      "Mary Poppins (1964) with Euclidean distance = 0.634949662599\n",
      "Singin' in the Rain (1952) with Euclidean distance = 0.853370792821\n",
      "Snow White and the Seven Dwarfs (1937) with Euclidean distance = 0.87462748296\n",
      "Affair to Remember, An (1957) with Euclidean distance = 0.886004761035\n",
      "American in Paris, An (1951) with Euclidean distance = 0.886415119304\n",
      "Cinderella (1950) with Euclidean distance = 0.90350822396\n",
      "Sound of Music, The (1965) with Euclidean distance = 0.905992959062\n",
      "Victor/Victoria (1982) with Euclidean distance = 0.90615286875\n",
      "Philadelphia Story, The (1940) with Euclidean distance = 0.960559646802\n",
      "Guantanamera (1994) with Euclidean distance = 0.970672245905\n"
     ]
    }
   ],
   "source": [
    "#My Fair Lady\n",
    "\n",
    "print \"The 10 closest movies to:\", movieid[0][484], \"are...\\n\"\n",
    "\n",
    "MFL_dist_list = []\n",
    "for j in range(1682):\n",
    "    dist = distance.euclidean(norm_v1[484], norm_v1[j])\n",
    "    MFL_dist_list.append((dist,j))\n",
    "    \n",
    "sortMFL = sorted(MFL_dist_list)[1:11]\n",
    "\n",
    "for i,j in sortMFL:\n",
    "    mov = movieid[0][j]\n",
    "    dist = i\n",
    "    print mov, \"with Euclidean distance =\", dist"
   ]
  },
  {
   "cell_type": "code",
   "execution_count": 19,
   "metadata": {
    "collapsed": false
   },
   "outputs": [
    {
     "name": "stdout",
     "output_type": "stream",
     "text": [
      "The 10 closest movies to: GoodFellas (1990) are...\n",
      "\n",
      "2001: A Space Odyssey (1968) with Euclidean distance = 0.650952354379\n",
      "Bonnie and Clyde (1967) with Euclidean distance = 0.675271331445\n",
      "Once Upon a Time in the West (1969) with Euclidean distance = 0.746634243292\n",
      "Pulp Fiction (1994) with Euclidean distance = 0.760227983775\n",
      "Raising Arizona (1987) with Euclidean distance = 0.76547646862\n",
      "Casino (1995) with Euclidean distance = 0.782363994203\n",
      "Full Metal Jacket (1987) with Euclidean distance = 0.833648853909\n",
      "Cool Hand Luke (1967) with Euclidean distance = 0.841918102169\n",
      "Short Cuts (1993) with Euclidean distance = 0.883272040339\n",
      "Body Snatcher, The (1945) with Euclidean distance = 0.888389754337\n"
     ]
    }
   ],
   "source": [
    "#Goodfellas\n",
    "\n",
    "print \"The 10 closest movies to:\", movieid[0][181], \"are...\\n\"\n",
    "\n",
    "GF_dist_list = []\n",
    "for j in range(1682):\n",
    "    dist = distance.euclidean(norm_v1[181], norm_v1[j])\n",
    "    GF_dist_list.append((dist,j))\n",
    "    \n",
    "sortGF = sorted(GF_dist_list)[1:11]\n",
    "\n",
    "for i,j in sortGF:\n",
    "    mov = movieid[0][j]\n",
    "    dist = i\n",
    "    print mov, \"with Euclidean distance =\", dist"
   ]
  },
  {
   "cell_type": "code",
   "execution_count": null,
   "metadata": {
    "collapsed": true
   },
   "outputs": [],
   "source": []
  }
 ],
 "metadata": {
  "anaconda-cloud": {},
  "kernelspec": {
   "display_name": "Python [Root]",
   "language": "python",
   "name": "Python [Root]"
  },
  "language_info": {
   "codemirror_mode": {
    "name": "ipython",
    "version": 2
   },
   "file_extension": ".py",
   "mimetype": "text/x-python",
   "name": "python",
   "nbconvert_exporter": "python",
   "pygments_lexer": "ipython2",
   "version": "2.7.12"
  }
 },
 "nbformat": 4,
 "nbformat_minor": 0
}
